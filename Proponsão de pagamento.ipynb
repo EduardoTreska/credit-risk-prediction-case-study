{
 "cells": [
  {
   "cell_type": "markdown",
   "id": "2a9a60fb",
   "metadata": {},
   "source": [
    "# <font size=6><center><b>Analise - Propensão de pagamento</b></center></font>\n",
    "<br>\n",
    "<font size=2><a href='https://raw.githubusercontent.com/uciml/default-of-credit-card-clients-dataset/main/UCI_Credit_Card.csv'>Download da base</a></font>"
   ]
  },
  {
   "cell_type": "markdown",
   "id": "b3a179fb",
   "metadata": {},
   "source": [
    "## <font size=3 color='silver'><b>Importações das bibliotecas</b></font>"
   ]
  },
  {
   "cell_type": "code",
   "execution_count": null,
   "id": "0e47629e",
   "metadata": {},
   "outputs": [],
   "source": [
    "import pandas as pd\n",
    "import numpy as np\n",
    "import matplotlib.pyplot as plt\n",
    "import seaborn as sns\n",
    "\n",
    "from sklearn.preprocessing import StandardScaler\n",
    "from sklearn.linear_model import LogisticRegression\n",
    "from sklearn.metrics import accuracy_score, confusion_matrix, classification_report\n",
    "from sklearn.ensemble import RandomForestClassifier\n",
    "from sklearn.ensemble import RandomForestClassifier\n",
    "import lightgbm as lgb\n",
    "import lightgbm as lgb\n",
    "from sklearn.preprocessing import StandardScaler\n",
    "from sklearn.metrics import classification_report, confusion_matrix"
   ]
  },
  {
   "cell_type": "markdown",
   "id": "c4ce8165",
   "metadata": {},
   "source": [
    "## <font size=3 color='silver'><b>Carregamento das bases</b></font>"
   ]
  },
  {
   "cell_type": "code",
   "execution_count": null,
   "id": "7e5103d5",
   "metadata": {},
   "outputs": [],
   "source": [
    "url = 'https://raw.githubusercontent.com/YuChenAmberLu/Data-Science--Credit-Card-Default/refs/heads/master/UCI_Credit_Card.csv'\n",
    "df_credito = pd.read_csv(url)"
   ]
  },
  {
   "cell_type": "markdown",
   "id": "84376716",
   "metadata": {},
   "source": [
    "## <font size=3 color='silver'><b>Analise exploratória</b></font>"
   ]
  },
  {
   "cell_type": "code",
   "execution_count": null,
   "id": "56c43bec",
   "metadata": {},
   "outputs": [
    {
     "data": {
      "application/vnd.microsoft.datawrangler.viewer.v0+json": {
       "columns": [
        {
         "name": "index",
         "rawType": "int64",
         "type": "integer"
        },
        {
         "name": "ID",
         "rawType": "int64",
         "type": "integer"
        },
        {
         "name": "LIMIT_BAL",
         "rawType": "float64",
         "type": "float"
        },
        {
         "name": "SEX",
         "rawType": "int64",
         "type": "integer"
        },
        {
         "name": "EDUCATION",
         "rawType": "int64",
         "type": "integer"
        },
        {
         "name": "MARRIAGE",
         "rawType": "int64",
         "type": "integer"
        },
        {
         "name": "AGE",
         "rawType": "int64",
         "type": "integer"
        },
        {
         "name": "PAY_0",
         "rawType": "int64",
         "type": "integer"
        },
        {
         "name": "PAY_2",
         "rawType": "int64",
         "type": "integer"
        },
        {
         "name": "PAY_3",
         "rawType": "int64",
         "type": "integer"
        },
        {
         "name": "PAY_4",
         "rawType": "int64",
         "type": "integer"
        },
        {
         "name": "PAY_5",
         "rawType": "int64",
         "type": "integer"
        },
        {
         "name": "PAY_6",
         "rawType": "int64",
         "type": "integer"
        },
        {
         "name": "BILL_AMT1",
         "rawType": "float64",
         "type": "float"
        },
        {
         "name": "BILL_AMT2",
         "rawType": "float64",
         "type": "float"
        },
        {
         "name": "BILL_AMT3",
         "rawType": "float64",
         "type": "float"
        },
        {
         "name": "BILL_AMT4",
         "rawType": "float64",
         "type": "float"
        },
        {
         "name": "BILL_AMT5",
         "rawType": "float64",
         "type": "float"
        },
        {
         "name": "BILL_AMT6",
         "rawType": "float64",
         "type": "float"
        },
        {
         "name": "PAY_AMT1",
         "rawType": "float64",
         "type": "float"
        },
        {
         "name": "PAY_AMT2",
         "rawType": "float64",
         "type": "float"
        },
        {
         "name": "PAY_AMT3",
         "rawType": "float64",
         "type": "float"
        },
        {
         "name": "PAY_AMT4",
         "rawType": "float64",
         "type": "float"
        },
        {
         "name": "PAY_AMT5",
         "rawType": "float64",
         "type": "float"
        },
        {
         "name": "PAY_AMT6",
         "rawType": "float64",
         "type": "float"
        },
        {
         "name": "default.payment.next.month",
         "rawType": "int64",
         "type": "integer"
        }
       ],
       "ref": "807ef0a8-7c4d-4b12-863d-e2f99c99f382",
       "rows": [
        [
         "0",
         "1",
         "20000.0",
         "2",
         "2",
         "1",
         "24",
         "2",
         "2",
         "-1",
         "-1",
         "-2",
         "-2",
         "3913.0",
         "3102.0",
         "689.0",
         "0.0",
         "0.0",
         "0.0",
         "0.0",
         "689.0",
         "0.0",
         "0.0",
         "0.0",
         "0.0",
         "1"
        ],
        [
         "1",
         "2",
         "120000.0",
         "2",
         "2",
         "2",
         "26",
         "-1",
         "2",
         "0",
         "0",
         "0",
         "2",
         "2682.0",
         "1725.0",
         "2682.0",
         "3272.0",
         "3455.0",
         "3261.0",
         "0.0",
         "1000.0",
         "1000.0",
         "1000.0",
         "0.0",
         "2000.0",
         "1"
        ],
        [
         "2",
         "3",
         "90000.0",
         "2",
         "2",
         "2",
         "34",
         "0",
         "0",
         "0",
         "0",
         "0",
         "0",
         "29239.0",
         "14027.0",
         "13559.0",
         "14331.0",
         "14948.0",
         "15549.0",
         "1518.0",
         "1500.0",
         "1000.0",
         "1000.0",
         "1000.0",
         "5000.0",
         "0"
        ],
        [
         "3",
         "4",
         "50000.0",
         "2",
         "2",
         "1",
         "37",
         "0",
         "0",
         "0",
         "0",
         "0",
         "0",
         "46990.0",
         "48233.0",
         "49291.0",
         "28314.0",
         "28959.0",
         "29547.0",
         "2000.0",
         "2019.0",
         "1200.0",
         "1100.0",
         "1069.0",
         "1000.0",
         "0"
        ],
        [
         "4",
         "5",
         "50000.0",
         "1",
         "2",
         "1",
         "57",
         "-1",
         "0",
         "-1",
         "0",
         "0",
         "0",
         "8617.0",
         "5670.0",
         "35835.0",
         "20940.0",
         "19146.0",
         "19131.0",
         "2000.0",
         "36681.0",
         "10000.0",
         "9000.0",
         "689.0",
         "679.0",
         "0"
        ]
       ],
       "shape": {
        "columns": 25,
        "rows": 5
       }
      },
      "text/html": [
       "<div>\n",
       "<style scoped>\n",
       "    .dataframe tbody tr th:only-of-type {\n",
       "        vertical-align: middle;\n",
       "    }\n",
       "\n",
       "    .dataframe tbody tr th {\n",
       "        vertical-align: top;\n",
       "    }\n",
       "\n",
       "    .dataframe thead th {\n",
       "        text-align: right;\n",
       "    }\n",
       "</style>\n",
       "<table border=\"1\" class=\"dataframe\">\n",
       "  <thead>\n",
       "    <tr style=\"text-align: right;\">\n",
       "      <th></th>\n",
       "      <th>ID</th>\n",
       "      <th>LIMIT_BAL</th>\n",
       "      <th>SEX</th>\n",
       "      <th>EDUCATION</th>\n",
       "      <th>MARRIAGE</th>\n",
       "      <th>AGE</th>\n",
       "      <th>PAY_0</th>\n",
       "      <th>PAY_2</th>\n",
       "      <th>PAY_3</th>\n",
       "      <th>PAY_4</th>\n",
       "      <th>...</th>\n",
       "      <th>BILL_AMT4</th>\n",
       "      <th>BILL_AMT5</th>\n",
       "      <th>BILL_AMT6</th>\n",
       "      <th>PAY_AMT1</th>\n",
       "      <th>PAY_AMT2</th>\n",
       "      <th>PAY_AMT3</th>\n",
       "      <th>PAY_AMT4</th>\n",
       "      <th>PAY_AMT5</th>\n",
       "      <th>PAY_AMT6</th>\n",
       "      <th>default.payment.next.month</th>\n",
       "    </tr>\n",
       "  </thead>\n",
       "  <tbody>\n",
       "    <tr>\n",
       "      <th>0</th>\n",
       "      <td>1</td>\n",
       "      <td>20000.0</td>\n",
       "      <td>2</td>\n",
       "      <td>2</td>\n",
       "      <td>1</td>\n",
       "      <td>24</td>\n",
       "      <td>2</td>\n",
       "      <td>2</td>\n",
       "      <td>-1</td>\n",
       "      <td>-1</td>\n",
       "      <td>...</td>\n",
       "      <td>0.0</td>\n",
       "      <td>0.0</td>\n",
       "      <td>0.0</td>\n",
       "      <td>0.0</td>\n",
       "      <td>689.0</td>\n",
       "      <td>0.0</td>\n",
       "      <td>0.0</td>\n",
       "      <td>0.0</td>\n",
       "      <td>0.0</td>\n",
       "      <td>1</td>\n",
       "    </tr>\n",
       "    <tr>\n",
       "      <th>1</th>\n",
       "      <td>2</td>\n",
       "      <td>120000.0</td>\n",
       "      <td>2</td>\n",
       "      <td>2</td>\n",
       "      <td>2</td>\n",
       "      <td>26</td>\n",
       "      <td>-1</td>\n",
       "      <td>2</td>\n",
       "      <td>0</td>\n",
       "      <td>0</td>\n",
       "      <td>...</td>\n",
       "      <td>3272.0</td>\n",
       "      <td>3455.0</td>\n",
       "      <td>3261.0</td>\n",
       "      <td>0.0</td>\n",
       "      <td>1000.0</td>\n",
       "      <td>1000.0</td>\n",
       "      <td>1000.0</td>\n",
       "      <td>0.0</td>\n",
       "      <td>2000.0</td>\n",
       "      <td>1</td>\n",
       "    </tr>\n",
       "    <tr>\n",
       "      <th>2</th>\n",
       "      <td>3</td>\n",
       "      <td>90000.0</td>\n",
       "      <td>2</td>\n",
       "      <td>2</td>\n",
       "      <td>2</td>\n",
       "      <td>34</td>\n",
       "      <td>0</td>\n",
       "      <td>0</td>\n",
       "      <td>0</td>\n",
       "      <td>0</td>\n",
       "      <td>...</td>\n",
       "      <td>14331.0</td>\n",
       "      <td>14948.0</td>\n",
       "      <td>15549.0</td>\n",
       "      <td>1518.0</td>\n",
       "      <td>1500.0</td>\n",
       "      <td>1000.0</td>\n",
       "      <td>1000.0</td>\n",
       "      <td>1000.0</td>\n",
       "      <td>5000.0</td>\n",
       "      <td>0</td>\n",
       "    </tr>\n",
       "    <tr>\n",
       "      <th>3</th>\n",
       "      <td>4</td>\n",
       "      <td>50000.0</td>\n",
       "      <td>2</td>\n",
       "      <td>2</td>\n",
       "      <td>1</td>\n",
       "      <td>37</td>\n",
       "      <td>0</td>\n",
       "      <td>0</td>\n",
       "      <td>0</td>\n",
       "      <td>0</td>\n",
       "      <td>...</td>\n",
       "      <td>28314.0</td>\n",
       "      <td>28959.0</td>\n",
       "      <td>29547.0</td>\n",
       "      <td>2000.0</td>\n",
       "      <td>2019.0</td>\n",
       "      <td>1200.0</td>\n",
       "      <td>1100.0</td>\n",
       "      <td>1069.0</td>\n",
       "      <td>1000.0</td>\n",
       "      <td>0</td>\n",
       "    </tr>\n",
       "    <tr>\n",
       "      <th>4</th>\n",
       "      <td>5</td>\n",
       "      <td>50000.0</td>\n",
       "      <td>1</td>\n",
       "      <td>2</td>\n",
       "      <td>1</td>\n",
       "      <td>57</td>\n",
       "      <td>-1</td>\n",
       "      <td>0</td>\n",
       "      <td>-1</td>\n",
       "      <td>0</td>\n",
       "      <td>...</td>\n",
       "      <td>20940.0</td>\n",
       "      <td>19146.0</td>\n",
       "      <td>19131.0</td>\n",
       "      <td>2000.0</td>\n",
       "      <td>36681.0</td>\n",
       "      <td>10000.0</td>\n",
       "      <td>9000.0</td>\n",
       "      <td>689.0</td>\n",
       "      <td>679.0</td>\n",
       "      <td>0</td>\n",
       "    </tr>\n",
       "  </tbody>\n",
       "</table>\n",
       "<p>5 rows × 25 columns</p>\n",
       "</div>"
      ],
      "text/plain": [
       "   ID  LIMIT_BAL  SEX  EDUCATION  MARRIAGE  AGE  PAY_0  PAY_2  PAY_3  PAY_4  \\\n",
       "0   1    20000.0    2          2         1   24      2      2     -1     -1   \n",
       "1   2   120000.0    2          2         2   26     -1      2      0      0   \n",
       "2   3    90000.0    2          2         2   34      0      0      0      0   \n",
       "3   4    50000.0    2          2         1   37      0      0      0      0   \n",
       "4   5    50000.0    1          2         1   57     -1      0     -1      0   \n",
       "\n",
       "   ...  BILL_AMT4  BILL_AMT5  BILL_AMT6  PAY_AMT1  PAY_AMT2  PAY_AMT3  \\\n",
       "0  ...        0.0        0.0        0.0       0.0     689.0       0.0   \n",
       "1  ...     3272.0     3455.0     3261.0       0.0    1000.0    1000.0   \n",
       "2  ...    14331.0    14948.0    15549.0    1518.0    1500.0    1000.0   \n",
       "3  ...    28314.0    28959.0    29547.0    2000.0    2019.0    1200.0   \n",
       "4  ...    20940.0    19146.0    19131.0    2000.0   36681.0   10000.0   \n",
       "\n",
       "   PAY_AMT4  PAY_AMT5  PAY_AMT6  default.payment.next.month  \n",
       "0       0.0       0.0       0.0                           1  \n",
       "1    1000.0       0.0    2000.0                           1  \n",
       "2    1000.0    1000.0    5000.0                           0  \n",
       "3    1100.0    1069.0    1000.0                           0  \n",
       "4    9000.0     689.0     679.0                           0  \n",
       "\n",
       "[5 rows x 25 columns]"
      ]
     },
     "execution_count": 29,
     "metadata": {},
     "output_type": "execute_result"
    }
   ],
   "source": [
    "df_credito.head()"
   ]
  },
  {
   "cell_type": "markdown",
   "id": "5c09e28c",
   "metadata": {},
   "source": [
    "<font size=3 color='silver'><center><b>Dicionário da base</b></center></font>\n",
    "<font size=2>\n",
    "<ul>\n",
    "<li><font color='yellow'><b>ID:</b></font> ID do cliente.</li>\n",
    "<li><font color='yellow'>LIMIT_BAL:</b></font>Valor de crédito concedido em dollar NT.</li>\n",
    "<li><font color='yellow'>SEX:</b></font> Opções (1=Masculino, 2=Feminino)</li>\n",
    "<li><font color='yellow'>EDUCATION:</b></font> (1=Pós graduação, 2=Graduado, 3=Ensino médio, 4=Outros, 5=Desconhecido, 6=Desconhecido)</li>\n",
    "<li><font color='yellow'>MARRIAGE:</b></font> Estado civil (1=Casado, 2=Solteiro, 3=Outros)</li>\n",
    "<li><font color='yellow'>AGE:</b></font> Idade</li>\n",
    "<li><font color='yellow'>PAY_0:</b></font> Situação do pagamento em Setembro, 2005 (-1=Pagamento em dia, 1=Atraso de 1 mes, 2=Atraso de 2 meses ...)</li>\n",
    "<li><font color='yellow'>PAY_2:</b></font> Situação do pagamento em Agosto, 2005 (Escala igual acima)\n",
    "<li><font color='yellow'>PAY_3:</b></font>Situação do pagamento em Julho, 2005 (Escala igual acima)</li>\n",
    "<li><font color='yellow'>PAY_4:</b></font> Situação do pagamento em Junho, 2005 (Escala igual acima)</li>\n",
    "<li><font color='yellow'>PAY_5:</b></font> Situação do pagamento em Maio, 2005 (Escala igual acima)</li>\n",
    "<li><font color='yellow'>PAY_6:</b></font> Situação do pagamento em Abril, 2005 (Escala igual acima)</li>\n",
    "<li><font color='yellow'>BILL_AMT1:</b></font> Valor da fatura em Setembro, 2005 (NT dollar)</li>\n",
    "<li><font color='yellow'>BILL_AMT2:</b></font> Valor da fatura em Agosto, 2005 (NT dollar)</li>\n",
    "<li><font color='yellow'>BILL_AMT3:</b></font> Valor da fatura em Junho, 2005 (NT dollar)</li>\n",
    "<li><font color='yellow'>BILL_AMT4:</b></font> Valor da fatura em Junho, 2005 (NT dollar)</li>\n",
    "<li><font color='yellow'>BILL_AMT5:</b></font> Valor da fatura em Maio, 2005 (NT dollar)</li>\n",
    "<li><font color='yellow'>BILL_AMT6:</b></font> Valor da fatura em Abril, 2005 (NT dollar)</li>\n",
    "<li><font color='yellow'>PAY_AMT1:</b></font> Valor do pagament anterior em Setembro, 2005 (NT dollar)</li>\n",
    "<li><font color='yellow'>PAY_AMT2:</b></font> Valor do pagament anterior em Agosto, 2005 (NT dollar)</li>\n",
    "<li><font color='yellow'>PAY_AMT3:</b></font> Valor do pagament anterior em Julho, 2005 (NT dollar)</li>\n",
    "<li><font color='yellow'>PAY_AMT4:</b></font> Valor do pagament anterior em Junho, 2005 (NT dollar)</li>\n",
    "<li><font color='yellow'>PAY_AMT5:</b></font> Valor do pagament anterior em Maio, 2005 (NT dollar)</li>\n",
    "<li><font color='yellow'>PAY_AMT6:</b></font> Valor do pagament anterior em Abril, 2005 (NT dollar)</li>\n",
    "<li><font color='yellow'>default.payment.next.month:</b></font> Default payment (1=yes, 0=no)</li>\n",
    "</ul>\n",
    "</font>"
   ]
  },
  {
   "cell_type": "code",
   "execution_count": 30,
   "id": "6cfba1c0",
   "metadata": {},
   "outputs": [
    {
     "name": "stdout",
     "output_type": "stream",
     "text": [
      "<class 'pandas.core.frame.DataFrame'>\n",
      "RangeIndex: 30000 entries, 0 to 29999\n",
      "Data columns (total 25 columns):\n",
      " #   Column                      Non-Null Count  Dtype  \n",
      "---  ------                      --------------  -----  \n",
      " 0   ID                          30000 non-null  int64  \n",
      " 1   LIMIT_BAL                   30000 non-null  float64\n",
      " 2   SEX                         30000 non-null  int64  \n",
      " 3   EDUCATION                   30000 non-null  int64  \n",
      " 4   MARRIAGE                    30000 non-null  int64  \n",
      " 5   AGE                         30000 non-null  int64  \n",
      " 6   PAY_0                       30000 non-null  int64  \n",
      " 7   PAY_2                       30000 non-null  int64  \n",
      " 8   PAY_3                       30000 non-null  int64  \n",
      " 9   PAY_4                       30000 non-null  int64  \n",
      " 10  PAY_5                       30000 non-null  int64  \n",
      " 11  PAY_6                       30000 non-null  int64  \n",
      " 12  BILL_AMT1                   30000 non-null  float64\n",
      " 13  BILL_AMT2                   30000 non-null  float64\n",
      " 14  BILL_AMT3                   30000 non-null  float64\n",
      " 15  BILL_AMT4                   30000 non-null  float64\n",
      " 16  BILL_AMT5                   30000 non-null  float64\n",
      " 17  BILL_AMT6                   30000 non-null  float64\n",
      " 18  PAY_AMT1                    30000 non-null  float64\n",
      " 19  PAY_AMT2                    30000 non-null  float64\n",
      " 20  PAY_AMT3                    30000 non-null  float64\n",
      " 21  PAY_AMT4                    30000 non-null  float64\n",
      " 22  PAY_AMT5                    30000 non-null  float64\n",
      " 23  PAY_AMT6                    30000 non-null  float64\n",
      " 24  default.payment.next.month  30000 non-null  int64  \n",
      "dtypes: float64(13), int64(12)\n",
      "memory usage: 5.7 MB\n"
     ]
    }
   ],
   "source": [
    "# 2. Verificar as informações gerais do DataFrame\n",
    "df_credito.info()"
   ]
  },
  {
   "cell_type": "markdown",
   "id": "fd14badc",
   "metadata": {},
   "source": [
    "### <font size=3 color='silver'><b>Analise de colunas categóricas</b></font>"
   ]
  },
  {
   "cell_type": "code",
   "execution_count": null,
   "id": "1ea7c9e3",
   "metadata": {},
   "outputs": [
    {
     "data": {
      "application/vnd.microsoft.datawrangler.viewer.v0+json": {
       "columns": [
        {
         "name": "EDUCATION",
         "rawType": "int64",
         "type": "integer"
        },
        {
         "name": "count",
         "rawType": "int64",
         "type": "integer"
        }
       ],
       "ref": "c36ceb9c-654f-421a-b65e-5717b61cee3d",
       "rows": [
        [
         "2",
         "14030"
        ],
        [
         "1",
         "10585"
        ],
        [
         "3",
         "4917"
        ],
        [
         "5",
         "280"
        ],
        [
         "4",
         "123"
        ],
        [
         "6",
         "51"
        ],
        [
         "0",
         "14"
        ]
       ],
       "shape": {
        "columns": 1,
        "rows": 7
       }
      },
      "text/plain": [
       "EDUCATION\n",
       "2    14030\n",
       "1    10585\n",
       "3     4917\n",
       "5      280\n",
       "4      123\n",
       "6       51\n",
       "0       14\n",
       "Name: count, dtype: int64"
      ]
     },
     "execution_count": 31,
     "metadata": {},
     "output_type": "execute_result"
    }
   ],
   "source": [
    "# Contando os valores únicos na coluna EDUCATION\n",
    "df_credito['EDUCATION'].value_counts()"
   ]
  },
  {
   "cell_type": "code",
   "execution_count": null,
   "id": "1319028e",
   "metadata": {},
   "outputs": [
    {
     "data": {
      "application/vnd.microsoft.datawrangler.viewer.v0+json": {
       "columns": [
        {
         "name": "EDUCATION",
         "rawType": "int64",
         "type": "integer"
        },
        {
         "name": "proportion",
         "rawType": "float64",
         "type": "float"
        }
       ],
       "ref": "e73fc450-2fcd-4455-ba29-7fe9c775e396",
       "rows": [
        [
         "2",
         "46.77"
        ],
        [
         "1",
         "35.28"
        ],
        [
         "3",
         "16.39"
        ],
        [
         "4",
         "1.56"
        ]
       ],
       "shape": {
        "columns": 1,
        "rows": 4
       }
      },
      "text/plain": [
       "EDUCATION\n",
       "2    46.77\n",
       "1    35.28\n",
       "3    16.39\n",
       "4     1.56\n",
       "Name: proportion, dtype: float64"
      ]
     },
     "execution_count": 47,
     "metadata": {},
     "output_type": "execute_result"
    }
   ],
   "source": [
    "# Visão em percentual coluna EDUCATION\n",
    "round(df_credito['EDUCATION'].value_counts(normalize=True) * 100,2)"
   ]
  },
  {
   "cell_type": "code",
   "execution_count": null,
   "id": "de6bd488",
   "metadata": {},
   "outputs": [
    {
     "data": {
      "application/vnd.microsoft.datawrangler.viewer.v0+json": {
       "columns": [
        {
         "name": "MARRIAGE",
         "rawType": "int64",
         "type": "integer"
        },
        {
         "name": "count",
         "rawType": "int64",
         "type": "integer"
        }
       ],
       "ref": "5a580e22-6bb3-4b59-bc94-45675c232058",
       "rows": [
        [
         "2",
         "15964"
        ],
        [
         "1",
         "13659"
        ],
        [
         "3",
         "323"
        ],
        [
         "0",
         "54"
        ]
       ],
       "shape": {
        "columns": 1,
        "rows": 4
       }
      },
      "text/plain": [
       "MARRIAGE\n",
       "2    15964\n",
       "1    13659\n",
       "3      323\n",
       "0       54\n",
       "Name: count, dtype: int64"
      ]
     },
     "execution_count": 33,
     "metadata": {},
     "output_type": "execute_result"
    }
   ],
   "source": [
    "# Contando os valores únicos na coluna MARRIAGE\n",
    "df_credito['MARRIAGE'].value_counts()"
   ]
  },
  {
   "cell_type": "code",
   "execution_count": null,
   "id": "40e1f121",
   "metadata": {},
   "outputs": [
    {
     "data": {
      "application/vnd.microsoft.datawrangler.viewer.v0+json": {
       "columns": [
        {
         "name": "MARRIAGE",
         "rawType": "int64",
         "type": "integer"
        },
        {
         "name": "proportion",
         "rawType": "float64",
         "type": "float"
        }
       ],
       "ref": "d2e9cf1f-7050-4fcc-9902-1e43dc48c767",
       "rows": [
        [
         "2",
         "53.21"
        ],
        [
         "1",
         "45.53"
        ],
        [
         "3",
         "1.26"
        ]
       ],
       "shape": {
        "columns": 1,
        "rows": 3
       }
      },
      "text/plain": [
       "MARRIAGE\n",
       "2    53.21\n",
       "1    45.53\n",
       "3     1.26\n",
       "Name: proportion, dtype: float64"
      ]
     },
     "execution_count": 48,
     "metadata": {},
     "output_type": "execute_result"
    }
   ],
   "source": [
    "# Visão em percentual coluna MARRIAGE\n",
    "round(df_credito['MARRIAGE'].value_counts(normalize=True) * 100,2)"
   ]
  },
  {
   "cell_type": "code",
   "execution_count": null,
   "id": "8065671f",
   "metadata": {},
   "outputs": [
    {
     "data": {
      "application/vnd.microsoft.datawrangler.viewer.v0+json": {
       "columns": [
        {
         "name": "SEX",
         "rawType": "int64",
         "type": "integer"
        },
        {
         "name": "count",
         "rawType": "int64",
         "type": "integer"
        }
       ],
       "ref": "bb014b81-198b-4078-b18f-1f23b3228cac",
       "rows": [
        [
         "2",
         "18112"
        ],
        [
         "1",
         "11888"
        ]
       ],
       "shape": {
        "columns": 1,
        "rows": 2
       }
      },
      "text/plain": [
       "SEX\n",
       "2    18112\n",
       "1    11888\n",
       "Name: count, dtype: int64"
      ]
     },
     "execution_count": 50,
     "metadata": {},
     "output_type": "execute_result"
    }
   ],
   "source": [
    "# Contando os valores únicos na coluna MARRIAGE\n",
    "df_credito['SEX'].value_counts()"
   ]
  },
  {
   "cell_type": "code",
   "execution_count": 51,
   "id": "cac5ed7e",
   "metadata": {},
   "outputs": [
    {
     "data": {
      "application/vnd.microsoft.datawrangler.viewer.v0+json": {
       "columns": [
        {
         "name": "SEX",
         "rawType": "int64",
         "type": "integer"
        },
        {
         "name": "proportion",
         "rawType": "float64",
         "type": "float"
        }
       ],
       "ref": "7d0b90c9-bdf0-4061-af78-670b6ad4e843",
       "rows": [
        [
         "2",
         "60.37"
        ],
        [
         "1",
         "39.63"
        ]
       ],
       "shape": {
        "columns": 1,
        "rows": 2
       }
      },
      "text/plain": [
       "SEX\n",
       "2    60.37\n",
       "1    39.63\n",
       "Name: proportion, dtype: float64"
      ]
     },
     "execution_count": 51,
     "metadata": {},
     "output_type": "execute_result"
    }
   ],
   "source": [
    "# Contando os valores únicos na coluna MARRIAGE\n",
    "round(df_credito['SEX'].value_counts(normalize=True) * 100,2)"
   ]
  },
  {
   "cell_type": "markdown",
   "id": "fa3cb7bf",
   "metadata": {},
   "source": [
    "<font size=2 color='silver'><b>Primeiras analises</b>\n",
    "<ul>\n",
    "<li>Verificada as primeiras 5 linhas.</li>\n",
    "<li><b> Dados Nulos:</b> Não identificada ausencia de dados</li>\n",
    "</ul>\n",
    "<b>Variaveis caretóricas.</b>\n",
    "<ul>\n",
    "<li><b>EDUCATION:</b> Identificado muitos valores com baixa representação.</li>\n",
    "<li><b>MARRIAGE:</b> Identificado muitos valores com baixa representação</li>\n",
    "<li><b>SEX:</b> Quantidade de categorias adequadas. Identificado que 60% dos clientes são do sexo feminino</li>\n",
    "</ul>\n",
    "</font>"
   ]
  },
  {
   "cell_type": "code",
   "execution_count": null,
   "id": "5b92514b",
   "metadata": {},
   "outputs": [],
   "source": [
    "# Agrupamento dos valores de baixa representação em 4 (outros) \n",
    "df_credito['EDUCATION'] = df_credito['EDUCATION'].replace(to_replace=[0, 5, 6], value=4)"
   ]
  },
  {
   "cell_type": "code",
   "execution_count": 49,
   "id": "351051e9",
   "metadata": {},
   "outputs": [],
   "source": [
    "# Agrupando o valor não documentado de MARRIAGE (0) na categoria 3 ('Outros')\n",
    "df_credito['MARRIAGE'] = df_credito['MARRIAGE'].replace(to_replace=0, value=3)"
   ]
  },
  {
   "cell_type": "markdown",
   "id": "b6862730",
   "metadata": {},
   "source": [
    "### <font size=3 color='silver'><b>Analise relação</b></font>"
   ]
  },
  {
   "cell_type": "code",
   "execution_count": 55,
   "id": "9cd207db",
   "metadata": {},
   "outputs": [
    {
     "data": {
      "image/png": "[encoded data removed]",
      "text/plain": [
       "<Figure size 1200x800 with 1 Axes>"
      ]
     },
     "metadata": {},
     "output_type": "display_data"
    }
   ],
   "source": [
    "# --- EDA: Testando a Hipótese de LIMIT_BAL ---\n",
    "plt.figure(figsize=(12, 8))\n",
    "\n",
    "ax = sns.boxplot(data=df_credito, x='default.payment.next.month', y='LIMIT_BAL', hue='default.payment.next.month', palette=['#34A853', '#EA4335'], legend=False)\n",
    "\n",
    "# Títulos e Rótulos\n",
    "ax.set_title('Distribuição do Limite de Crédito por Status de Pagamento', fontsize=18)\n",
    "ax.set_xlabel('Status de Pagamento no Próximo Mês', fontsize=14)\n",
    "ax.set_ylabel('Limite de Crédito', fontsize=14)\n",
    "\n",
    "ax.set_xticks([0, 1])\n",
    "ax.set_xticklabels(['Pagou em Dia (0)', 'Entrou em Default (1)'])\n",
    "plt.show()"
   ]
  },
  {
   "cell_type": "code",
   "execution_count": 56,
   "id": "71748577",
   "metadata": {},
   "outputs": [
    {
     "data": {
      "image/png": "[encoded data removed]",
      "text/plain": [
       "<Figure size 1400x800 with 1 Axes>"
      ]
     },
     "metadata": {},
     "output_type": "display_data"
    }
   ],
   "source": [
    "# --- EDA: Relação entre Histórico de Pagamento (PAY_0) e Default ---\n",
    "plt.figure(figsize=(14, 8))\n",
    "\n",
    "ax = sns.countplot(data=df_credito, x='PAY_0', hue='default.payment.next.month', palette=['#34A853', '#EA4335'])\n",
    "\n",
    "# Títulos e Rótulos\n",
    "ax.set_title('Relação entre Status do Último Pagamento e Default no Mês Seguinte', fontsize=18)\n",
    "ax.set_xlabel('Status do Pagamento no Mês Anterior (PAY_0)', fontsize=14)\n",
    "ax.set_ylabel('Quantidade de Clientes', fontsize=14)\n",
    "ax.legend(title='Default no Mês Seguinte', labels=['Pagou (0)', 'Não Pagou (1)'])\n",
    "\n",
    "plt.show()"
   ]
  },
  {
   "cell_type": "markdown",
   "id": "aace5f64",
   "metadata": {},
   "source": [
    "## <font size=3 color='silver'><b>Modelos de Machine Learning</b></font>"
   ]
  },
  {
   "cell_type": "markdown",
   "id": "6fdd24f5",
   "metadata": {},
   "source": [
    "## <font size=3 color='silver'><b>Separação das bases de treino e teste.</b></font>"
   ]
  },
  {
   "cell_type": "code",
   "execution_count": 41,
   "id": "799d412a",
   "metadata": {},
   "outputs": [
    {
     "name": "stdout",
     "output_type": "stream",
     "text": [
      "### Iniciando a preparação dos dados para o modelo ###\n",
      "\n",
      "Divisão concluída com sucesso!\n",
      "Formato dos dados de treino (X_train): (24000, 23)\n",
      "Formato dos dados de teste (X_test): (6000, 23)\n",
      "\n",
      "Proporção do alvo no treino:\n",
      " default.payment.next.month\n",
      "0    0.778792\n",
      "1    0.221208\n",
      "Name: proportion, dtype: float64\n",
      "\n",
      "Proporção do alvo no teste:\n",
      " default.payment.next.month\n",
      "0    0.778833\n",
      "1    0.221167\n",
      "Name: proportion, dtype: float64\n"
     ]
    }
   ],
   "source": [
    "# --- FASE DE MODELAGEM: PREPARAÇÃO E DIVISÃO DOS DADOS ---\n",
    "from sklearn.model_selection import train_test_split\n",
    "\n",
    "print(\"### Iniciando a preparação dos dados para o modelo ###\")\n",
    "\n",
    "# 1. Separar as features (X) do nosso alvo (y)\n",
    "# Lembre-se de remover a coluna 'ID', que é apenas um identificador e não tem valor preditivo.\n",
    "X = df_credito.drop(['ID', 'default.payment.next.month'], axis=1)\n",
    "y = df_credito['default.payment.next.month']\n",
    "\n",
    "# 2. Divisão em Treino e Teste (80% para treino, 20% para teste)\n",
    "X_train, X_test, y_train, y_test = train_test_split(X, y, test_size=0.2, random_state=42, stratify=y)\n",
    "# Usamos stratify=y para garantir que a proporção de 'pagadores' e 'não pagadores' seja a mesma\n",
    "# tanto no conjunto de treino quanto no de teste. É uma boa prática para dados desbalanceados.\n",
    "\n",
    "\n",
    "# 3. Verificar o resultado da separação\n",
    "print(\"\\nDivisão concluída com sucesso!\")\n",
    "print(\"Formato dos dados de treino (X_train):\", X_train.shape)\n",
    "print(\"Formato dos dados de teste (X_test):\", X_test.shape)\n",
    "print(\"\\nProporção do alvo no treino:\\n\", y_train.value_counts(normalize=True))\n",
    "print(\"\\nProporção do alvo no teste:\\n\", y_test.value_counts(normalize=True))"
   ]
  },
  {
   "cell_type": "markdown",
   "id": "2ba0e1ba",
   "metadata": {},
   "source": [
    "## <font size=3 color='silver'><b>V1 - Logistic Refression.</b></font>"
   ]
  },
  {
   "cell_type": "code",
   "execution_count": null,
   "id": "dc238d08",
   "metadata": {},
   "outputs": [
    {
     "data": {
      "text/html": [
       "<style>#sk-container-id-2 {\n",
       "  /* Definition of color scheme common for light and dark mode */\n",
       "  --sklearn-color-text: #000;\n",
       "  --sklearn-color-text-muted: #666;\n",
       "  --sklearn-color-line: gray;\n",
       "  /* Definition of color scheme for unfitted estimators */\n",
       "  --sklearn-color-unfitted-level-0: #fff5e6;\n",
       "  --sklearn-color-unfitted-level-1: #f6e4d2;\n",
       "  --sklearn-color-unfitted-level-2: #ffe0b3;\n",
       "  --sklearn-color-unfitted-level-3: chocolate;\n",
       "  /* Definition of color scheme for fitted estimators */\n",
       "  --sklearn-color-fitted-level-0: #f0f8ff;\n",
       "  --sklearn-color-fitted-level-1: #d4ebff;\n",
       "  --sklearn-color-fitted-level-2: #b3dbfd;\n",
       "  --sklearn-color-fitted-level-3: cornflowerblue;\n",
       "\n",
       "  /* Specific color for light theme */\n",
       "  --sklearn-color-text-on-default-background: var(--sg-text-color, var(--theme-code-foreground, var(--jp-content-font-color1, black)));\n",
       "  --sklearn-color-background: var(--sg-background-color, var(--theme-background, var(--jp-layout-color0, white)));\n",
       "  --sklearn-color-border-box: var(--sg-text-color, var(--theme-code-foreground, var(--jp-content-font-color1, black)));\n",
       "  --sklearn-color-icon: #696969;\n",
       "\n",
       "  @media (prefers-color-scheme: dark) {\n",
       "    /* Redefinition of color scheme for dark theme */\n",
       "    --sklearn-color-text-on-default-background: var(--sg-text-color, var(--theme-code-foreground, var(--jp-content-font-color1, white)));\n",
       "    --sklearn-color-background: var(--sg-background-color, var(--theme-background, var(--jp-layout-color0, #111)));\n",
       "    --sklearn-color-border-box: var(--sg-text-color, var(--theme-code-foreground, var(--jp-content-font-color1, white)));\n",
       "    --sklearn-color-icon: #878787;\n",
       "  }\n",
       "}\n",
       "\n",
       "#sk-container-id-2 {\n",
       "  color: var(--sklearn-color-text);\n",
       "}\n",
       "\n",
       "#sk-container-id-2 pre {\n",
       "  padding: 0;\n",
       "}\n",
       "\n",
       "#sk-container-id-2 input.sk-hidden--visually {\n",
       "  border: 0;\n",
       "  clip: rect(1px 1px 1px 1px);\n",
       "  clip: rect(1px, 1px, 1px, 1px);\n",
       "  height: 1px;\n",
       "  margin: -1px;\n",
       "  overflow: hidden;\n",
       "  padding: 0;\n",
       "  position: absolute;\n",
       "  width: 1px;\n",
       "}\n",
       "\n",
       "#sk-container-id-2 div.sk-dashed-wrapped {\n",
       "  border: 1px dashed var(--sklearn-color-line);\n",
       "  margin: 0 0.4em 0.5em 0.4em;\n",
       "  box-sizing: border-box;\n",
       "  padding-bottom: 0.4em;\n",
       "  background-color: var(--sklearn-color-background);\n",
       "}\n",
       "\n",
       "#sk-container-id-2 div.sk-container {\n",
       "  /* jupyter's `normalize.less` sets `[hidden] { display: none; }`\n",
       "     but bootstrap.min.css set `[hidden] { display: none !important; }`\n",
       "     so we also need the `!important` here to be able to override the\n",
       "     default hidden behavior on the sphinx rendered scikit-learn.org.\n",
       "     See: https://github.com/scikit-learn/scikit-learn/issues/21755 */\n",
       "  display: inline-block !important;\n",
       "  position: relative;\n",
       "}\n",
       "\n",
       "#sk-container-id-2 div.sk-text-repr-fallback {\n",
       "  display: none;\n",
       "}\n",
       "\n",
       "div.sk-parallel-item,\n",
       "div.sk-serial,\n",
       "div.sk-item {\n",
       "  /* draw centered vertical line to link estimators */\n",
       "  background-image: linear-gradient(var(--sklearn-color-text-on-default-background), var(--sklearn-color-text-on-default-background));\n",
       "  background-size: 2px 100%;\n",
       "  background-repeat: no-repeat;\n",
       "  background-position: center center;\n",
       "}\n",
       "\n",
       "/* Parallel-specific style estimator block */\n",
       "\n",
       "#sk-container-id-2 div.sk-parallel-item::after {\n",
       "  content: \"\";\n",
       "  width: 100%;\n",
       "  border-bottom: 2px solid var(--sklearn-color-text-on-default-background);\n",
       "  flex-grow: 1;\n",
       "}\n",
       "\n",
       "#sk-container-id-2 div.sk-parallel {\n",
       "  display: flex;\n",
       "  align-items: stretch;\n",
       "  justify-content: center;\n",
       "  background-color: var(--sklearn-color-background);\n",
       "  position: relative;\n",
       "}\n",
       "\n",
       "#sk-container-id-2 div.sk-parallel-item {\n",
       "  display: flex;\n",
       "  flex-direction: column;\n",
       "}\n",
       "\n",
       "#sk-container-id-2 div.sk-parallel-item:first-child::after {\n",
       "  align-self: flex-end;\n",
       "  width: 50%;\n",
       "}\n",
       "\n",
       "#sk-container-id-2 div.sk-parallel-item:last-child::after {\n",
       "  align-self: flex-start;\n",
       "  width: 50%;\n",
       "}\n",
       "\n",
       "#sk-container-id-2 div.sk-parallel-item:only-child::after {\n",
       "  width: 0;\n",
       "}\n",
       "\n",
       "/* Serial-specific style estimator block */\n",
       "\n",
       "#sk-container-id-2 div.sk-serial {\n",
       "  display: flex;\n",
       "  flex-direction: column;\n",
       "  align-items: center;\n",
       "  background-color: var(--sklearn-color-background);\n",
       "  padding-right: 1em;\n",
       "  padding-left: 1em;\n",
       "}\n",
       "\n",
       "\n",
       "/* Toggleable style: style used for estimator/Pipeline/ColumnTransformer box that is\n",
       "clickable and can be expanded/collapsed.\n",
       "- Pipeline and ColumnTransformer use this feature and define the default style\n",
       "- Estimators will overwrite some part of the style using the `sk-estimator` class\n",
       "*/\n",
       "\n",
       "/* Pipeline and ColumnTransformer style (default) */\n",
       "\n",
       "#sk-container-id-2 div.sk-toggleable {\n",
       "  /* Default theme specific background. It is overwritten whether we have a\n",
       "  specific estimator or a Pipeline/ColumnTransformer */\n",
       "  background-color: var(--sklearn-color-background);\n",
       "}\n",
       "\n",
       "/* Toggleable label */\n",
       "#sk-container-id-2 label.sk-toggleable__label {\n",
       "  cursor: pointer;\n",
       "  display: flex;\n",
       "  width: 100%;\n",
       "  margin-bottom: 0;\n",
       "  padding: 0.5em;\n",
       "  box-sizing: border-box;\n",
       "  text-align: center;\n",
       "  align-items: start;\n",
       "  justify-content: space-between;\n",
       "  gap: 0.5em;\n",
       "}\n",
       "\n",
       "#sk-container-id-2 label.sk-toggleable__label .caption {\n",
       "  font-size: 0.6rem;\n",
       "  font-weight: lighter;\n",
       "  color: var(--sklearn-color-text-muted);\n",
       "}\n",
       "\n",
       "#sk-container-id-2 label.sk-toggleable__label-arrow:before {\n",
       "  /* Arrow on the left of the label */\n",
       "  content: \"▸\";\n",
       "  float: left;\n",
       "  margin-right: 0.25em;\n",
       "  color: var(--sklearn-color-icon);\n",
       "}\n",
       "\n",
       "#sk-container-id-2 label.sk-toggleable__label-arrow:hover:before {\n",
       "  color: var(--sklearn-color-text);\n",
       "}\n",
       "\n",
       "/* Toggleable content - dropdown */\n",
       "\n",
       "#sk-container-id-2 div.sk-toggleable__content {\n",
       "  max-height: 0;\n",
       "  max-width: 0;\n",
       "  overflow: hidden;\n",
       "  text-align: left;\n",
       "  /* unfitted */\n",
       "  background-color: var(--sklearn-color-unfitted-level-0);\n",
       "}\n",
       "\n",
       "#sk-container-id-2 div.sk-toggleable__content.fitted {\n",
       "  /* fitted */\n",
       "  background-color: var(--sklearn-color-fitted-level-0);\n",
       "}\n",
       "\n",
       "#sk-container-id-2 div.sk-toggleable__content pre {\n",
       "  margin: 0.2em;\n",
       "  border-radius: 0.25em;\n",
       "  color: var(--sklearn-color-text);\n",
       "  /* unfitted */\n",
       "  background-color: var(--sklearn-color-unfitted-level-0);\n",
       "}\n",
       "\n",
       "#sk-container-id-2 div.sk-toggleable__content.fitted pre {\n",
       "  /* unfitted */\n",
       "  background-color: var(--sklearn-color-fitted-level-0);\n",
       "}\n",
       "\n",
       "#sk-container-id-2 input.sk-toggleable__control:checked~div.sk-toggleable__content {\n",
       "  /* Expand drop-down */\n",
       "  max-height: 200px;\n",
       "  max-width: 100%;\n",
       "  overflow: auto;\n",
       "}\n",
       "\n",
       "#sk-container-id-2 input.sk-toggleable__control:checked~label.sk-toggleable__label-arrow:before {\n",
       "  content: \"▾\";\n",
       "}\n",
       "\n",
       "/* Pipeline/ColumnTransformer-specific style */\n",
       "\n",
       "#sk-container-id-2 div.sk-label input.sk-toggleable__control:checked~label.sk-toggleable__label {\n",
       "  color: var(--sklearn-color-text);\n",
       "  background-color: var(--sklearn-color-unfitted-level-2);\n",
       "}\n",
       "\n",
       "#sk-container-id-2 div.sk-label.fitted input.sk-toggleable__control:checked~label.sk-toggleable__label {\n",
       "  background-color: var(--sklearn-color-fitted-level-2);\n",
       "}\n",
       "\n",
       "/* Estimator-specific style */\n",
       "\n",
       "/* Colorize estimator box */\n",
       "#sk-container-id-2 div.sk-estimator input.sk-toggleable__control:checked~label.sk-toggleable__label {\n",
       "  /* unfitted */\n",
       "  background-color: var(--sklearn-color-unfitted-level-2);\n",
       "}\n",
       "\n",
       "#sk-container-id-2 div.sk-estimator.fitted input.sk-toggleable__control:checked~label.sk-toggleable__label {\n",
       "  /* fitted */\n",
       "  background-color: var(--sklearn-color-fitted-level-2);\n",
       "}\n",
       "\n",
       "#sk-container-id-2 div.sk-label label.sk-toggleable__label,\n",
       "#sk-container-id-2 div.sk-label label {\n",
       "  /* The background is the default theme color */\n",
       "  color: var(--sklearn-color-text-on-default-background);\n",
       "}\n",
       "\n",
       "/* On hover, darken the color of the background */\n",
       "#sk-container-id-2 div.sk-label:hover label.sk-toggleable__label {\n",
       "  color: var(--sklearn-color-text);\n",
       "  background-color: var(--sklearn-color-unfitted-level-2);\n",
       "}\n",
       "\n",
       "/* Label box, darken color on hover, fitted */\n",
       "#sk-container-id-2 div.sk-label.fitted:hover label.sk-toggleable__label.fitted {\n",
       "  color: var(--sklearn-color-text);\n",
       "  background-color: var(--sklearn-color-fitted-level-2);\n",
       "}\n",
       "\n",
       "/* Estimator label */\n",
       "\n",
       "#sk-container-id-2 div.sk-label label {\n",
       "  font-family: monospace;\n",
       "  font-weight: bold;\n",
       "  display: inline-block;\n",
       "  line-height: 1.2em;\n",
       "}\n",
       "\n",
       "#sk-container-id-2 div.sk-label-container {\n",
       "  text-align: center;\n",
       "}\n",
       "\n",
       "/* Estimator-specific */\n",
       "#sk-container-id-2 div.sk-estimator {\n",
       "  font-family: monospace;\n",
       "  border: 1px dotted var(--sklearn-color-border-box);\n",
       "  border-radius: 0.25em;\n",
       "  box-sizing: border-box;\n",
       "  margin-bottom: 0.5em;\n",
       "  /* unfitted */\n",
       "  background-color: var(--sklearn-color-unfitted-level-0);\n",
       "}\n",
       "\n",
       "#sk-container-id-2 div.sk-estimator.fitted {\n",
       "  /* fitted */\n",
       "  background-color: var(--sklearn-color-fitted-level-0);\n",
       "}\n",
       "\n",
       "/* on hover */\n",
       "#sk-container-id-2 div.sk-estimator:hover {\n",
       "  /* unfitted */\n",
       "  background-color: var(--sklearn-color-unfitted-level-2);\n",
       "}\n",
       "\n",
       "#sk-container-id-2 div.sk-estimator.fitted:hover {\n",
       "  /* fitted */\n",
       "  background-color: var(--sklearn-color-fitted-level-2);\n",
       "}\n",
       "\n",
       "/* Specification for estimator info (e.g. \"i\" and \"?\") */\n",
       "\n",
       "/* Common style for \"i\" and \"?\" */\n",
       "\n",
       ".sk-estimator-doc-link,\n",
       "a:link.sk-estimator-doc-link,\n",
       "a:visited.sk-estimator-doc-link {\n",
       "  float: right;\n",
       "  font-size: smaller;\n",
       "  line-height: 1em;\n",
       "  font-family: monospace;\n",
       "  background-color: var(--sklearn-color-background);\n",
       "  border-radius: 1em;\n",
       "  height: 1em;\n",
       "  width: 1em;\n",
       "  text-decoration: none !important;\n",
       "  margin-left: 0.5em;\n",
       "  text-align: center;\n",
       "  /* unfitted */\n",
       "  border: var(--sklearn-color-unfitted-level-1) 1pt solid;\n",
       "  color: var(--sklearn-color-unfitted-level-1);\n",
       "}\n",
       "\n",
       ".sk-estimator-doc-link.fitted,\n",
       "a:link.sk-estimator-doc-link.fitted,\n",
       "a:visited.sk-estimator-doc-link.fitted {\n",
       "  /* fitted */\n",
       "  border: var(--sklearn-color-fitted-level-1) 1pt solid;\n",
       "  color: var(--sklearn-color-fitted-level-1);\n",
       "}\n",
       "\n",
       "/* On hover */\n",
       "div.sk-estimator:hover .sk-estimator-doc-link:hover,\n",
       ".sk-estimator-doc-link:hover,\n",
       "div.sk-label-container:hover .sk-estimator-doc-link:hover,\n",
       ".sk-estimator-doc-link:hover {\n",
       "  /* unfitted */\n",
       "  background-color: var(--sklearn-color-unfitted-level-3);\n",
       "  color: var(--sklearn-color-background);\n",
       "  text-decoration: none;\n",
       "}\n",
       "\n",
       "div.sk-estimator.fitted:hover .sk-estimator-doc-link.fitted:hover,\n",
       ".sk-estimator-doc-link.fitted:hover,\n",
       "div.sk-label-container:hover .sk-estimator-doc-link.fitted:hover,\n",
       ".sk-estimator-doc-link.fitted:hover {\n",
       "  /* fitted */\n",
       "  background-color: var(--sklearn-color-fitted-level-3);\n",
       "  color: var(--sklearn-color-background);\n",
       "  text-decoration: none;\n",
       "}\n",
       "\n",
       "/* Span, style for the box shown on hovering the info icon */\n",
       ".sk-estimator-doc-link span {\n",
       "  display: none;\n",
       "  z-index: 9999;\n",
       "  position: relative;\n",
       "  font-weight: normal;\n",
       "  right: .2ex;\n",
       "  padding: .5ex;\n",
       "  margin: .5ex;\n",
       "  width: min-content;\n",
       "  min-width: 20ex;\n",
       "  max-width: 50ex;\n",
       "  color: var(--sklearn-color-text);\n",
       "  box-shadow: 2pt 2pt 4pt #999;\n",
       "  /* unfitted */\n",
       "  background: var(--sklearn-color-unfitted-level-0);\n",
       "  border: .5pt solid var(--sklearn-color-unfitted-level-3);\n",
       "}\n",
       "\n",
       ".sk-estimator-doc-link.fitted span {\n",
       "  /* fitted */\n",
       "  background: var(--sklearn-color-fitted-level-0);\n",
       "  border: var(--sklearn-color-fitted-level-3);\n",
       "}\n",
       "\n",
       ".sk-estimator-doc-link:hover span {\n",
       "  display: block;\n",
       "}\n",
       "\n",
       "/* \"?\"-specific style due to the `<a>` HTML tag */\n",
       "\n",
       "#sk-container-id-2 a.estimator_doc_link {\n",
       "  float: right;\n",
       "  font-size: 1rem;\n",
       "  line-height: 1em;\n",
       "  font-family: monospace;\n",
       "  background-color: var(--sklearn-color-background);\n",
       "  border-radius: 1rem;\n",
       "  height: 1rem;\n",
       "  width: 1rem;\n",
       "  text-decoration: none;\n",
       "  /* unfitted */\n",
       "  color: var(--sklearn-color-unfitted-level-1);\n",
       "  border: var(--sklearn-color-unfitted-level-1) 1pt solid;\n",
       "}\n",
       "\n",
       "#sk-container-id-2 a.estimator_doc_link.fitted {\n",
       "  /* fitted */\n",
       "  border: var(--sklearn-color-fitted-level-1) 1pt solid;\n",
       "  color: var(--sklearn-color-fitted-level-1);\n",
       "}\n",
       "\n",
       "/* On hover */\n",
       "#sk-container-id-2 a.estimator_doc_link:hover {\n",
       "  /* unfitted */\n",
       "  background-color: var(--sklearn-color-unfitted-level-3);\n",
       "  color: var(--sklearn-color-background);\n",
       "  text-decoration: none;\n",
       "}\n",
       "\n",
       "#sk-container-id-2 a.estimator_doc_link.fitted:hover {\n",
       "  /* fitted */\n",
       "  background-color: var(--sklearn-color-fitted-level-3);\n",
       "}\n",
       "</style><div id=\"sk-container-id-2\" class=\"sk-top-container\"><div class=\"sk-text-repr-fallback\"><pre>LogisticRegression(random_state=42)</pre><b>In a Jupyter environment, please rerun this cell to show the HTML representation or trust the notebook. <br />On GitHub, the HTML representation is unable to render, please try loading this page with nbviewer.org.</b></div><div class=\"sk-container\" hidden><div class=\"sk-item\"><div class=\"sk-estimator fitted sk-toggleable\"><input class=\"sk-toggleable__control sk-hidden--visually\" id=\"sk-estimator-id-2\" type=\"checkbox\" checked><label for=\"sk-estimator-id-2\" class=\"sk-toggleable__label fitted sk-toggleable__label-arrow\"><div><div>LogisticRegression</div></div><div><a class=\"sk-estimator-doc-link fitted\" rel=\"noreferrer\" target=\"_blank\" href=\"https://scikit-learn.org/1.6/modules/generated/sklearn.linear_model.LogisticRegression.html\">?<span>Documentation for LogisticRegression</span></a><span class=\"sk-estimator-doc-link fitted\">i<span>Fitted</span></span></div></label><div class=\"sk-toggleable__content fitted\"><pre>LogisticRegression(random_state=42)</pre></div> </div></div></div></div>"
      ],
      "text/plain": [
       "LogisticRegression(random_state=42)"
      ]
     },
     "execution_count": 59,
     "metadata": {},
     "output_type": "execute_result"
    }
   ],
   "source": [
    "scaler = StandardScaler()\n",
    "\n",
    "X_train_scaled = scaler.fit_transform(X_train)\n",
    "X_test_scaled = scaler.transform(X_test)\n",
    "\n",
    "model_lr = LogisticRegression(random_state=42)\n",
    "model_lr.fit(X_train_scaled, y_train)"
   ]
  },
  {
   "cell_type": "code",
   "execution_count": 60,
   "id": "2294a077",
   "metadata": {},
   "outputs": [
    {
     "name": "stdout",
     "output_type": "stream",
     "text": [
      "\n",
      "Acurácia do modelo: 80.83%\n",
      "\n",
      "Matriz de Confusão:\n",
      "[[4529  144]\n",
      " [1006  321]]\n",
      "\n",
      "Relatório de Classificação:\n",
      "              precision    recall  f1-score   support\n",
      "\n",
      "   Pagou (0)       0.82      0.97      0.89      4673\n",
      " Default (1)       0.69      0.24      0.36      1327\n",
      "\n",
      "    accuracy                           0.81      6000\n",
      "   macro avg       0.75      0.61      0.62      6000\n",
      "weighted avg       0.79      0.81      0.77      6000\n",
      "\n",
      "\n",
      "--- AVALIAÇÃO CONCLUÍDA ---\n"
     ]
    }
   ],
   "source": [
    "# 1. Fazendo as previsões nos dados de teste\n",
    "y_pred = model_lr.predict(X_test_scaled)\n",
    "\n",
    "# 2. Avaliando a Acurácia Geral\n",
    "accuracy = accuracy_score(y_test, y_pred)\n",
    "print(f\"\\nAcurácia do modelo: {accuracy * 100:.2f}%\")\n",
    "\n",
    "# 3. Visualizando a Matriz de Confusão\n",
    "print(\"\\nMatriz de Confusão:\")\n",
    "print(confusion_matrix(y_test, y_pred))\n",
    "\n",
    "# 4. Vendo o Relatório de Classificação completo\n",
    "print(\"\\nRelatório de Classificação:\")\n",
    "print(classification_report(y_test, y_pred, target_names=['Pagou (0)', 'Default (1)']))\n",
    "\n",
    "print(\"\\n--- AVALIAÇÃO CONCLUÍDA ---\")"
   ]
  },
  {
   "cell_type": "markdown",
   "id": "8660e92d",
   "metadata": {},
   "source": [
    "## <font size=3 color='silver'><b>V2 - Random Forest Classifier.</b></font>"
   ]
  },
  {
   "cell_type": "code",
   "execution_count": 61,
   "id": "c8a8cc42",
   "metadata": {},
   "outputs": [
    {
     "name": "stdout",
     "output_type": "stream",
     "text": [
      "\n",
      "--- MODELO 'RADAR DE PAGADORES' (V2) TREINADO COM SUCESSO! ---\n",
      "\n",
      "### Avaliando o Modelo V2: RandomForest ###\n",
      "\n",
      "Relatório de Classificação (RandomForest V2):\n",
      "              precision    recall  f1-score   support\n",
      "\n",
      "   Pagou (0)       0.84      0.95      0.89      4673\n",
      " Default (1)       0.64      0.34      0.45      1327\n",
      "\n",
      "    accuracy                           0.81      6000\n",
      "   macro avg       0.74      0.64      0.67      6000\n",
      "weighted avg       0.79      0.81      0.79      6000\n",
      "\n",
      "\n",
      "Matriz de Confusão (RandomForest V2):\n",
      "[[4421  252]\n",
      " [ 872  455]]\n"
     ]
    }
   ],
   "source": [
    "# 1. Criação do Modelo RandomForest\n",
    "model_rf = RandomForestClassifier(n_estimators=100, random_state=42, class_weight='balanced', n_jobs=-1)\n",
    "\n",
    "# 2. Treinamento do Modelo\n",
    "model_rf.fit(X_train_scaled, y_train)\n",
    "print(\"\\n--- MODELO 'RADAR DE PAGADORES' (V2) TREINADO COM SUCESSO! ---\")\n",
    "\n",
    "# 3. Avaliando a Acurácia Geral\n",
    "print(\"\\n### Avaliando o Modelo V2: RandomForest ###\")\n",
    "\n",
    "# 4. Fazendo as previsões nos dados de teste\n",
    "y_pred_rf = model_rf.predict(X_test_scaled)\n",
    "\n",
    "# 5.Imprimindo o relatório completo\n",
    "print(\"\\nRelatório de Classificação (RandomForest V2):\")\n",
    "print(classification_report(y_test, y_pred_rf, target_names=['Pagou (0)', 'Default (1)']))\n",
    "\n",
    "print(\"\\nMatriz de Confusão (RandomForest V2):\")\n",
    "print(confusion_matrix(y_test, y_pred_rf))"
   ]
  },
  {
   "cell_type": "markdown",
   "id": "1c3f2c37",
   "metadata": {},
   "source": [
    "## <font size=3 color='silver'><b>V2.1 - Random Forest Classifier + Hiperparametro max_depth.</b></font>"
   ]
  },
  {
   "cell_type": "code",
   "execution_count": null,
   "id": "925cef32",
   "metadata": {},
   "outputs": [
    {
     "name": "stdout",
     "output_type": "stream",
     "text": [
      "\n",
      "--- MODELO 'RADAR DE PAGADORES' (V2.1) TREINADO COM SUCESSO! ---\n",
      "\n",
      "### Avaliando o Modelo V2.1: RandomForest ###\n",
      "\n",
      "Relatório de Classificação (RandomForest V2.1):\n",
      "              precision    recall  f1-score   support\n",
      "\n",
      "   Pagou (0)       0.87      0.85      0.86      4673\n",
      " Default (1)       0.52      0.56      0.54      1327\n",
      "\n",
      "    accuracy                           0.79      6000\n",
      "   macro avg       0.70      0.71      0.70      6000\n",
      "weighted avg       0.79      0.79      0.79      6000\n",
      "\n",
      "\n",
      "Matriz de Confusão (RandomForest V2.1):\n",
      "[[3993  680]\n",
      " [ 586  741]]\n"
     ]
    }
   ],
   "source": [
    "# 1. Instanciando \n",
    "model_rf = RandomForestClassifier(n_estimators=100, random_state=42, class_weight='balanced', n_jobs=-1, max_depth=10)\n",
    "\n",
    "# 2. Treinamento do Modelo\n",
    "model_rf.fit(X_train_scaled, y_train)\n",
    "print(\"\\n--- MODELO 'RADAR DE PAGADORES' (V2.1) TREINADO COM SUCESSO! ---\")\n",
    "\n",
    "# 3. Avaliando a Acurácia Geral\n",
    "print(\"\\n### Avaliando o Modelo V2.1: RandomForest ###\")\n",
    "\n",
    "# 4. Fazendo as previsões nos dados de teste\n",
    "y_pred_rf = model_rf.predict(X_test_scaled)\n",
    "\n",
    "# 5.Imprimindo o relatório completo\n",
    "print(\"\\nRelatório de Classificação (RandomForest V2.1):\")\n",
    "print(classification_report(y_test, y_pred_rf, target_names=['Pagou (0)', 'Default (1)']))\n",
    "\n",
    "print(\"\\nMatriz de Confusão (RandomForest V2.1):\")\n",
    "print(confusion_matrix(y_test, y_pred_rf))"
   ]
  },
  {
   "cell_type": "markdown",
   "id": "045f77d9",
   "metadata": {},
   "source": [
    "## <font size=3 color='silver'><b>V3 - GRADIENT BOOSTING.</b></font>"
   ]
  },
  {
   "cell_type": "code",
   "execution_count": 65,
   "id": "a0376709",
   "metadata": {},
   "outputs": [
    {
     "name": "stdout",
     "output_type": "stream",
     "text": [
      "Dados padronizados e nomes das features preservados.\n",
      "[LightGBM] [Info] Number of positive: 5309, number of negative: 18691\n",
      "[LightGBM] [Info] Auto-choosing col-wise multi-threading, the overhead of testing was 0,001869 seconds.\n",
      "You can set `force_col_wise=true` to remove the overhead.\n",
      "[LightGBM] [Info] Total Bins 3268\n",
      "[LightGBM] [Info] Number of data points in the train set: 24000, number of used features: 23\n",
      "[LightGBM] [Info] [binary:BoostFromScore]: pavg=0,221208 -> initscore=-1,258639\n",
      "[LightGBM] [Info] Start training from score -1,258639\n",
      "\n",
      "--- MODELO V3 TREINADO COM SUCESSO! ---\n",
      "\n",
      "### Avaliando o Modelo V3: LightGBM ###\n",
      "\n",
      "Relatório de Classificação (LightGBM V3):\n",
      "              precision    recall  f1-score   support\n",
      "\n",
      "   Pagou (0)       0.88      0.80      0.84      4673\n",
      " Default (1)       0.47      0.62      0.54      1327\n",
      "\n",
      "    accuracy                           0.76      6000\n",
      "   macro avg       0.68      0.71      0.69      6000\n",
      "weighted avg       0.79      0.76      0.77      6000\n",
      "\n",
      "\n",
      "Matriz de Confusão (LightGBM V3):\n",
      "[[3735  938]\n",
      " [ 498  829]]\n"
     ]
    }
   ],
   "source": [
    "# 1. Padronização das Features (Scaling)\n",
    "scaler = StandardScaler()\n",
    "X_train_scaled_np = scaler.fit_transform(X_train)\n",
    "X_test_scaled_np = scaler.transform(X_test)\n",
    "\n",
    "# --- A CORREÇÃO ESTÁ AQUI ---\n",
    "# Convertendo os arrays NumPy de volta para DataFrames, preservando os nomes das colunas\n",
    "X_train_scaled = pd.DataFrame(X_train_scaled_np, columns=X_train.columns)\n",
    "X_test_scaled = pd.DataFrame(X_test_scaled_np, columns=X_test.columns)\n",
    "print(\"Dados padronizados e nomes das features preservados.\")\n",
    "\n",
    "\n",
    "# 2. Criação do Modelo LightGBM\n",
    "ratio = y_train.value_counts()[0] / y_train.value_counts()[1]\n",
    "model_lgbm = lgb.LGBMClassifier(random_state=42, n_jobs=-1, scale_pos_weight=ratio)\n",
    "\n",
    "# 3. Treinamento do Modelo\n",
    "model_lgbm.fit(X_train_scaled, y_train)\n",
    "print(\"\\n--- MODELO V3 TREINADO COM SUCESSO! ---\")\n",
    "\n",
    "\n",
    "# 4. Avaliação do Modelo V3\n",
    "print(\"\\n### Avaliando o Modelo V3: LightGBM ###\")\n",
    "y_pred_lgbm = model_lgbm.predict(X_test_scaled)\n",
    "\n",
    "print(\"\\nRelatório de Classificação (LightGBM V3):\")\n",
    "print(classification_report(y_test, y_pred_lgbm, target_names=['Pagou (0)', 'Default (1)']))\n",
    "\n",
    "print(\"\\nMatriz de Confusão (LightGBM V3):\")\n",
    "print(confusion_matrix(y_test, y_pred_lgbm))"
   ]
  },
  {
   "cell_type": "markdown",
   "id": "a7e32170",
   "metadata": {},
   "source": [
    "## <center><font size=6><b> Resultados finais dos modelos testados</b></font></center>\n",
    "<font size=3>\n",
    "<center>\n",
    "<style>\n",
    "    .dark-table {\n",
    "        border-collapse: collapse;\n",
    "        margin: 25px 0;\n",
    "        font-size: 0.9em;\n",
    "        font-family: sans-serif;\n",
    "        min-width: 400px;\n",
    "        box-shadow: 0 0 20px rgba(0, 0, 0, 0.25);\n",
    "        color: #ffffff; /* Cor do texto principal */\n",
    "    }\n",
    "    .dark-table thead tr {\n",
    "        background-color: #343a40; /* Cabeçalho mais escuro */\n",
    "        color: #ffffff;\n",
    "        text-align: center;\n",
    "    }\n",
    "    .dark-table th,\n",
    "    .dark-table td {\n",
    "        padding: 12px 15px;\n",
    "        text-align: center;\n",
    "    }\n",
    "    .dark-table tbody tr {\n",
    "        background-color: #495057; /* Fundo das linhas */\n",
    "        border-bottom: 1px solid #6c757d; /* Borda sutil entre linhas */\n",
    "    }\n",
    "    .dark-table tbody tr:last-of-type {\n",
    "        border-bottom: 2px solid #17a2b8; /* Borda final destacada */\n",
    "    }\n",
    "    .highlight-green {\n",
    "        background-color: #28a745 !important; /* Verde mais forte para o sucesso */\n",
    "        font-weight: bold;\n",
    "    }\n",
    "    .highlight-red {\n",
    "        background-color: #dc3545 !important; /* Vermelho para o ponto de atenção/custo */\n",
    "        font-weight: bold;\n",
    "    }\n",
    "</style>\n",
    "\n",
    "<table class=\"dark-table\">\n",
    "    <thead>\n",
    "        <tr>\n",
    "            <th>Modelo</th>\n",
    "            <th>Recall (Default)</th>\n",
    "            <th>Precision (Default)</th>\n",
    "            <th>F1-Score (Default)</th>\n",
    "            <th>Acurácia</th>\n",
    "        </tr>\n",
    "    </thead>\n",
    "    <tbody>\n",
    "        <tr>\n",
    "            <td>V1: Regressão Logística</td>\n",
    "            <td>0.24 (24%)</td>\n",
    "            <td>0.69 (69%)</td>\n",
    "            <td>0.36</td>\n",
    "            <td>81%</td>\n",
    "        </tr>\n",
    "        <tr>\n",
    "            <td>V2: RandomForest (max_depth=10)</td>\n",
    "            <td>0.34 (34%)</td>\n",
    "            <td>0.64 (64%)</td>\n",
    "            <td>0.45</td>\n",
    "            <td>81%</td>\n",
    "        </tr>\n",
    "         <tr>\n",
    "            <td>V2.1: RandomForest (seu ajuste)</td>\n",
    "            <td>0.56 (56%)</td>\n",
    "            <td>0.52 (52%)</td>\n",
    "            <td>0.54</td>\n",
    "            <td>79%</td>\n",
    "        </tr>\n",
    "        <tr>\n",
    "            <td><b>V3: LightGBM (Campeão)</b></td>\n",
    "            <td class=\"highlight-green\">0.62 (62%)</td>\n",
    "            <td class=\"highlight-red\">0.47 (47%)</td>\n",
    "            <td style=\"font-weight: bold;\">0.54</td>\n",
    "            <td>76%</td>\n",
    "        </tr>\n",
    "    </tbody>\n",
    "</table>\n",
    "</font>"
   ]
  }
 ],
 "metadata": {
  "kernelspec": {
   "display_name": "Python 3",
   "language": "python",
   "name": "python3"
  },
  "language_info": {
   "codemirror_mode": {
    "name": "ipython",
    "version": 3
   },
   "file_extension": ".py",
   "mimetype": "text/x-python",
   "name": "python",
   "nbconvert_exporter": "python",
   "pygments_lexer": "ipython3",
   "version": "3.13.2"
  }
 },
 "nbformat": 4,
 "nbformat_minor": 5
}
